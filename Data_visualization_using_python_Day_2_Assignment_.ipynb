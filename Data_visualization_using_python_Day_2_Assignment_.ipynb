{
  "nbformat": 4,
  "nbformat_minor": 0,
  "metadata": {
    "colab": {
      "name": "Data visualization using python Day 2 Assignment .ipynb",
      "provenance": [],
      "authorship_tag": "ABX9TyOzHlqkoJoe7lVj2dp0ZqQX",
      "include_colab_link": true
    },
    "kernelspec": {
      "name": "python3",
      "display_name": "Python 3"
    },
    "language_info": {
      "name": "python"
    }
  },
  "cells": [
    {
      "cell_type": "markdown",
      "metadata": {
        "id": "view-in-github",
        "colab_type": "text"
      },
      "source": [
        "<a href=\"https://colab.research.google.com/github/RashmiRajuGowda/day-2-assignment/blob/main/Data_visualization_using_python_Day_2_Assignment_.ipynb\" target=\"_parent\"><img src=\"https://colab.research.google.com/assets/colab-badge.svg\" alt=\"Open In Colab\"/></a>"
      ]
    },
    {
      "cell_type": "markdown",
      "metadata": {
        "id": "4tOu93Q9aP7T"
      },
      "source": [
        "Question 1,:create a dataframe with 10 rows on random numbers and 4 columns, (columns labelled as a,b,c,d) and plot a bar chart"
      ]
    },
    {
      "cell_type": "code",
      "metadata": {
        "colab": {
          "base_uri": "https://localhost:8080/",
          "height": 891
        },
        "id": "QEFMTBW_d2CF",
        "outputId": "58cbfcb1-5941-4a4f-c767-833549bf3ad3"
      },
      "source": [
        "import numpy as np\n",
        "import pandas as pd\n",
        "import matplotlib as mtl\n",
        "import matplotlib.pyplot as plt\n",
        "\n",
        "r1=np.random.randint(1,20,10)\n",
        "r2=np.random.randint(20,30,10)\n",
        "r3=np.random.randint(30,40,10)\n",
        "r4=np.random.randint(40,50,10)\n",
        "df={\"A\": pd.Series(r1),\"B\": pd.Series(r2),\"C\": pd.Series(r3),\"D\": pd.Series(r4)}\n",
        "data_frame=pd.DataFrame(df)\n",
        "\n",
        "data_frame\n",
        "\n",
        "data_frame.plot.bar()\n",
        "\n",
        "r1=np.random.randint(1,10,5)\n",
        "r2=np.random.randint(10,20,5)\n",
        "r3=np.random.randint(20,30,5)\n",
        "r4=np.random.randint(30,40,5)\n",
        "df={\"A\": pd.Series(r1),\"B\": pd.Series(r2),\"C\": pd.Series(r3),\"D\": pd.Series(r4)}\n",
        "data_frame=pd.DataFrame(df)\n",
        "print(data_frame)\n",
        "print(data_frame.plot.bar())\n",
        "\n",
        "print(data_frame.plot(kind=\"hist\"))"
      ],
      "execution_count": 2,
      "outputs": [
        {
          "output_type": "stream",
          "text": [
            "   A   B   C   D\n",
            "0  3  12  25  31\n",
            "1  8  13  27  36\n",
            "2  4  16  22  33\n",
            "3  1  19  26  34\n",
            "4  3  14  27  36\n",
            "AxesSubplot(0.125,0.125;0.775x0.755)\n",
            "AxesSubplot(0.125,0.125;0.775x0.755)\n"
          ],
          "name": "stdout"
        },
        {
          "output_type": "display_data",
          "data": {
            "image/png": "[encoded data removed]",
            "text/plain": [
              "<Figure size 432x288 with 1 Axes>"
            ]
          },
          "metadata": {
            "tags": [],
            "needs_background": "light"
          }
        },
        {
          "output_type": "display_data",
          "data": {
            "image/png": "[encoded data removed]",
            "text/plain": [
              "<Figure size 432x288 with 1 Axes>"
            ]
          },
          "metadata": {
            "tags": [],
            "needs_background": "light"
          }
        },
        {
          "output_type": "display_data",
          "data": {
            "image/png": "[encoded data removed]",
            "text/plain": [
              "<Figure size 432x288 with 1 Axes>"
            ]
          },
          "metadata": {
            "tags": [],
            "needs_background": "light"
          }
        }
      ]
    }
  ]
}